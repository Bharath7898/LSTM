{
 "cells": [
  {
   "cell_type": "code",
   "execution_count": 1,
   "id": "orange-netherlands",
   "metadata": {},
   "outputs": [],
   "source": [
    "import numpy as np\n",
    "import pandas as pd\n",
    "import matplotlib.pyplot as plt\n",
    "from sklearn.preprocessing import MinMaxScaler\n",
    "from tensorflow.keras.models import Sequential\n",
    "from tensorflow.keras.layers import LSTM,Dropout,Dense"
   ]
  },
  {
   "cell_type": "code",
   "execution_count": 2,
   "id": "alpha-belly",
   "metadata": {},
   "outputs": [],
   "source": [
    "#Importing the training set\n",
    "dataset_train= pd.read_csv(r\"C:\\Users\\DELL\\Desktop\\bharath\\DS\\csv\\Google_Stock_Price_Train.csv\")\n",
    "training_set = dataset_train.iloc[:,1:2].values"
   ]
  },
  {
   "cell_type": "code",
   "execution_count": 3,
   "id": "moving-drunk",
   "metadata": {},
   "outputs": [],
   "source": [
    "#Feature Scaling ( Standardisation vs Normalisation) normalisation for sigmoid\n",
    "from sklearn.preprocessing import MinMaxScaler\n",
    "sc = MinMaxScaler(feature_range=(0,1))\n",
    "training_set_scaled = sc.fit_transform(training_set)"
   ]
  },
  {
   "cell_type": "markdown",
   "id": "spatial-people",
   "metadata": {},
   "source": [
    "\"\"\"\n",
    "\n",
    "Timesteps = 60\n",
    "\n",
    "60 time steps means that at each time 't' the RNN is going to look at the 60 stock prices.\n",
    "Before time 't' that is the stock price is between 60 days before time 't' .\n",
    "And based on the trends it is capturing during the 60 time steps will try to predict the next\n",
    "output. So 60 time steps are the past information from which our RNN is going to try to learn and understand\n",
    "some correlations or some trends.\n",
    "\"\"\""
   ]
  },
  {
   "cell_type": "code",
   "execution_count": 4,
   "id": "curious-preparation",
   "metadata": {},
   "outputs": [],
   "source": [
    "X_train = []\n",
    "y_train = []\n",
    "\n",
    "for i in range(60, 1258):\n",
    "    X_train.append(training_set_scaled[i-60:i,0])\n",
    "    y_train.append(training_set_scaled[i,0])\n",
    "    \n",
    "X_train, y_train = np.array(X_train), np.array(y_train)"
   ]
  },
  {
   "cell_type": "code",
   "execution_count": 5,
   "id": "spread-medicare",
   "metadata": {},
   "outputs": [],
   "source": [
    "#Reshaping STEP 5\n",
    "X_train = np.reshape(X_train,(X_train.shape[0],X_train.shape[1], 1))\n"
   ]
  },
  {
   "cell_type": "code",
   "execution_count": 6,
   "id": "divided-wells",
   "metadata": {},
   "outputs": [],
   "source": [
    "# Building the RNN\n",
    "from keras.models import Sequential # Sequential Model\n",
    "from keras.layers import Dense\n",
    "from keras.layers import LSTM\n",
    "from keras.layers import Dropout #to avoid overfitting\n"
   ]
  },
  {
   "cell_type": "code",
   "execution_count": 11,
   "id": "aquatic-agreement",
   "metadata": {},
   "outputs": [],
   "source": [
    "def build_regressor():\n",
    "    \n",
    "    # since predicting a continuous value, dealing with continuous values\n",
    "    regressor = Sequential() \n",
    "    \n",
    "    #adding first LSTM and dropout to avoid overfitting\n",
    "    # since we are going to add another LSTM layer\n",
    "    regressor.add(LSTM(units = 50, return_sequences=True, input_shape = (X_train.shape[1], 1))) \n",
    "    regressor.add(Dropout(0.2))\n",
    "    \n",
    "    #adding second LSTM and dropout to avoid overfitting\n",
    "    regressor.add(LSTM(units = 50, return_sequences=True)) \n",
    "    regressor.add(Dropout(0.2))\n",
    "     \n",
    "    #adding third LSTM and dropout to avoid overfitting\n",
    "    regressor.add(LSTM(units = 50, return_sequences=True)) \n",
    "    regressor.add(Dropout(0.2))\n",
    "     \n",
    "    #adding fourth LSTM and dropout to avoid overfitting\n",
    "    regressor.add(LSTM(units = 50)) \n",
    "    regressor.add(Dropout(0.2))\n",
    "    \n",
    "    #adding the output layer\n",
    "    regressor.add(Dense(units=1))\n",
    "    \n",
    "    return regressor"
   ]
  },
  {
   "cell_type": "code",
   "execution_count": 12,
   "id": "sorted-greeting",
   "metadata": {},
   "outputs": [],
   "source": [
    "#compiling the regressor\n",
    "regressor = build_regressor()"
   ]
  },
  {
   "cell_type": "code",
   "execution_count": 13,
   "id": "supreme-journalist",
   "metadata": {},
   "outputs": [],
   "source": [
    "#compiling the regressor, optimizer adam, for regression, loss fxn = mse\n",
    "regressor.compile(optimizer='adam', loss = 'mean_squared_error')   \n"
   ]
  },
  {
   "cell_type": "code",
   "execution_count": 14,
   "id": "invalid-delta",
   "metadata": {},
   "outputs": [
    {
     "name": "stdout",
     "output_type": "stream",
     "text": [
      "Epoch 1/100\n",
      "38/38 [==============================] - 11s 91ms/step - loss: 0.1028\n",
      "Epoch 2/100\n",
      "38/38 [==============================] - 4s 96ms/step - loss: 0.0064\n",
      "Epoch 3/100\n",
      "38/38 [==============================] - 3s 92ms/step - loss: 0.0059: \n",
      "Epoch 4/100\n",
      "38/38 [==============================] - 3s 88ms/step - loss: 0.0062\n",
      "Epoch 5/100\n",
      "38/38 [==============================] - 3s 91ms/step - loss: 0.0044\n",
      "Epoch 6/100\n",
      "38/38 [==============================] - 4s 99ms/step - loss: 0.0045\n",
      "Epoch 7/100\n",
      "38/38 [==============================] - 4s 97ms/step - loss: 0.0049\n",
      "Epoch 8/100\n",
      "38/38 [==============================] - 3s 91ms/step - loss: 0.0045\n",
      "Epoch 9/100\n",
      "38/38 [==============================] - 4s 94ms/step - loss: 0.0043\n",
      "Epoch 10/100\n",
      "38/38 [==============================] - 3s 91ms/step - loss: 0.0043\n",
      "Epoch 11/100\n",
      "38/38 [==============================] - 4s 97ms/step - loss: 0.0047\n",
      "Epoch 12/100\n",
      "38/38 [==============================] - 4s 97ms/step - loss: 0.0045\n",
      "Epoch 13/100\n",
      "38/38 [==============================] - 4s 97ms/step - loss: 0.0039\n",
      "Epoch 14/100\n",
      "38/38 [==============================] - 4s 95ms/step - loss: 0.0044\n",
      "Epoch 15/100\n",
      "38/38 [==============================] - 3s 90ms/step - loss: 0.0049\n",
      "Epoch 16/100\n",
      "38/38 [==============================] - 4s 97ms/step - loss: 0.0043\n",
      "Epoch 17/100\n",
      "38/38 [==============================] - 4s 102ms/step - loss: 0.0038\n",
      "Epoch 18/100\n",
      "38/38 [==============================] - 4s 93ms/step - loss: 0.0040\n",
      "Epoch 19/100\n",
      "38/38 [==============================] - 3s 91ms/step - loss: 0.0040\n",
      "Epoch 20/100\n",
      "38/38 [==============================] - 4s 100ms/step - loss: 0.0038\n",
      "Epoch 21/100\n",
      "38/38 [==============================] - 4s 98ms/step - loss: 0.0032: 0s - loss: 0.\n",
      "Epoch 22/100\n",
      "38/38 [==============================] - 4s 96ms/step - loss: 0.0036\n",
      "Epoch 23/100\n",
      "38/38 [==============================] - 4s 101ms/step - loss: 0.0039 0s - loss\n",
      "Epoch 24/100\n",
      "38/38 [==============================] - 4s 92ms/step - loss: 0.0035\n",
      "Epoch 25/100\n",
      "38/38 [==============================] - 4s 93ms/step - loss: 0.0033\n",
      "Epoch 26/100\n",
      "38/38 [==============================] - 4s 92ms/step - loss: 0.0033\n",
      "Epoch 27/100\n",
      "38/38 [==============================] - 4s 98ms/step - loss: 0.0034\n",
      "Epoch 28/100\n",
      "38/38 [==============================] - 4s 99ms/step - loss: 0.0035\n",
      "Epoch 29/100\n",
      "38/38 [==============================] - 4s 97ms/step - loss: 0.0031\n",
      "Epoch 30/100\n",
      "38/38 [==============================] - 4s 98ms/step - loss: 0.0029: \n",
      "Epoch 31/100\n",
      "38/38 [==============================] - 4s 103ms/step - loss: 0.0029\n",
      "Epoch 32/100\n",
      "38/38 [==============================] - 4s 100ms/step - loss: 0.0028\n",
      "Epoch 33/100\n",
      "38/38 [==============================] - 4s 103ms/step - loss: 0.0032\n",
      "Epoch 34/100\n",
      "38/38 [==============================] - 3s 92ms/step - loss: 0.0028\n",
      "Epoch 35/100\n",
      "38/38 [==============================] - 4s 94ms/step - loss: 0.0026\n",
      "Epoch 36/100\n",
      "38/38 [==============================] - 3s 91ms/step - loss: 0.0028\n",
      "Epoch 37/100\n",
      "38/38 [==============================] - 4s 93ms/step - loss: 0.0027\n",
      "Epoch 38/100\n",
      "38/38 [==============================] - 3s 91ms/step - loss: 0.0028\n",
      "Epoch 39/100\n",
      "38/38 [==============================] - 4s 95ms/step - loss: 0.0028\n",
      "Epoch 40/100\n",
      "38/38 [==============================] - 4s 97ms/step - loss: 0.0024\n",
      "Epoch 41/100\n",
      "38/38 [==============================] - 4s 95ms/step - loss: 0.0025\n",
      "Epoch 42/100\n",
      "38/38 [==============================] - 4s 93ms/step - loss: 0.0028\n",
      "Epoch 43/100\n",
      "38/38 [==============================] - 4s 94ms/step - loss: 0.0024: 0s - loss:\n",
      "Epoch 44/100\n",
      "38/38 [==============================] - 4s 94ms/step - loss: 0.0024\n",
      "Epoch 45/100\n",
      "38/38 [==============================] - 4s 98ms/step - loss: 0.0026\n",
      "Epoch 46/100\n",
      "38/38 [==============================] - 4s 92ms/step - loss: 0.0026\n",
      "Epoch 47/100\n",
      "38/38 [==============================] - 3s 92ms/step - loss: 0.0024\n",
      "Epoch 48/100\n",
      "38/38 [==============================] - 4s 97ms/step - loss: 0.0021\n",
      "Epoch 49/100\n",
      "38/38 [==============================] - 4s 97ms/step - loss: 0.0023\n",
      "Epoch 50/100\n",
      "38/38 [==============================] - 4s 101ms/step - loss: 0.0026\n",
      "Epoch 51/100\n",
      "38/38 [==============================] - 3s 92ms/step - loss: 0.0026\n",
      "Epoch 52/100\n",
      "38/38 [==============================] - 4s 93ms/step - loss: 0.0022\n",
      "Epoch 53/100\n",
      "38/38 [==============================] - 3s 92ms/step - loss: 0.0023\n",
      "Epoch 54/100\n",
      "38/38 [==============================] - 3s 89ms/step - loss: 0.0026\n",
      "Epoch 55/100\n",
      "38/38 [==============================] - 3s 91ms/step - loss: 0.0024\n",
      "Epoch 56/100\n",
      "38/38 [==============================] - 3s 90ms/step - loss: 0.0025\n",
      "Epoch 57/100\n",
      "38/38 [==============================] - 3s 91ms/step - loss: 0.0030\n",
      "Epoch 58/100\n",
      "38/38 [==============================] - 3s 90ms/step - loss: 0.0023\n",
      "Epoch 59/100\n",
      "38/38 [==============================] - 3s 90ms/step - loss: 0.0022\n",
      "Epoch 60/100\n",
      "38/38 [==============================] - 3s 90ms/step - loss: 0.0019\n",
      "Epoch 61/100\n",
      "38/38 [==============================] - 3s 90ms/step - loss: 0.0018\n",
      "Epoch 62/100\n",
      "38/38 [==============================] - 3s 89ms/step - loss: 0.0020\n",
      "Epoch 63/100\n",
      "38/38 [==============================] - 3s 90ms/step - loss: 0.0019\n",
      "Epoch 64/100\n",
      "38/38 [==============================] - 3s 89ms/step - loss: 0.0021\n",
      "Epoch 65/100\n",
      "38/38 [==============================] - 3s 90ms/step - loss: 0.0019\n",
      "Epoch 66/100\n",
      "38/38 [==============================] - 3s 91ms/step - loss: 0.0022\n",
      "Epoch 67/100\n",
      "38/38 [==============================] - 3s 90ms/step - loss: 0.0020\n",
      "Epoch 68/100\n",
      "38/38 [==============================] - 3s 92ms/step - loss: 0.0018\n",
      "Epoch 69/100\n",
      "38/38 [==============================] - 3s 91ms/step - loss: 0.0019\n",
      "Epoch 70/100\n",
      "38/38 [==============================] - 3s 90ms/step - loss: 0.0019\n",
      "Epoch 71/100\n",
      "38/38 [==============================] - 4s 97ms/step - loss: 0.0018\n",
      "Epoch 72/100\n",
      "38/38 [==============================] - 3s 90ms/step - loss: 0.0019\n",
      "Epoch 73/100\n",
      "38/38 [==============================] - 3s 91ms/step - loss: 0.0018\n",
      "Epoch 74/100\n",
      "38/38 [==============================] - 4s 93ms/step - loss: 0.0017\n",
      "Epoch 75/100\n",
      "38/38 [==============================] - 4s 103ms/step - loss: 0.0021\n",
      "Epoch 76/100\n",
      "38/38 [==============================] - 4s 101ms/step - loss: 0.0020\n",
      "Epoch 77/100\n",
      "38/38 [==============================] - 4s 93ms/step - loss: 0.0018\n",
      "Epoch 78/100\n",
      "38/38 [==============================] - 3s 91ms/step - loss: 0.0017\n",
      "Epoch 79/100\n",
      "38/38 [==============================] - 4s 99ms/step - loss: 0.0017\n",
      "Epoch 80/100\n",
      "38/38 [==============================] - 3s 92ms/step - loss: 0.0018\n",
      "Epoch 81/100\n",
      "38/38 [==============================] - 4s 94ms/step - loss: 0.0015: 0s - lo\n",
      "Epoch 82/100\n",
      "38/38 [==============================] - 3s 92ms/step - loss: 0.0016\n",
      "Epoch 83/100\n",
      "38/38 [==============================] - 4s 93ms/step - loss: 0.0017\n",
      "Epoch 84/100\n",
      "38/38 [==============================] - 3s 91ms/step - loss: 0.0014\n",
      "Epoch 85/100\n",
      "38/38 [==============================] - 4s 96ms/step - loss: 0.0013\n",
      "Epoch 86/100\n",
      "38/38 [==============================] - 4s 95ms/step - loss: 0.0016\n",
      "Epoch 87/100\n",
      "38/38 [==============================] - 4s 95ms/step - loss: 0.0021\n",
      "Epoch 88/100\n",
      "38/38 [==============================] - 4s 97ms/step - loss: 0.0016\n",
      "Epoch 89/100\n",
      "38/38 [==============================] - 4s 95ms/step - loss: 0.0015\n",
      "Epoch 90/100\n",
      "38/38 [==============================] - 4s 95ms/step - loss: 0.0015: 0s - loss: 0.001\n",
      "Epoch 91/100\n",
      "38/38 [==============================] - 4s 95ms/step - loss: 0.0015\n",
      "Epoch 92/100\n",
      "38/38 [==============================] - 4s 95ms/step - loss: 0.0015\n",
      "Epoch 93/100\n",
      "38/38 [==============================] - 4s 98ms/step - loss: 0.0016\n",
      "Epoch 94/100\n",
      "38/38 [==============================] - 4s 95ms/step - loss: 0.0015\n",
      "Epoch 95/100\n",
      "38/38 [==============================] - 4s 95ms/step - loss: 0.0017\n",
      "Epoch 96/100\n",
      "38/38 [==============================] - 4s 94ms/step - loss: 0.0016\n",
      "Epoch 97/100\n",
      "38/38 [==============================] - 4s 95ms/step - loss: 0.0015\n",
      "Epoch 98/100\n",
      "38/38 [==============================] - 4s 95ms/step - loss: 0.0013\n",
      "Epoch 99/100\n",
      "38/38 [==============================] - 4s 95ms/step - loss: 0.0014\n",
      "Epoch 100/100\n"
     ]
    },
    {
     "name": "stdout",
     "output_type": "stream",
     "text": [
      "38/38 [==============================] - 4s 94ms/step - loss: 0.0019\n"
     ]
    },
    {
     "data": {
      "text/plain": [
       "<tensorflow.python.keras.callbacks.History at 0x1fcbd6c73c8>"
      ]
     },
     "execution_count": 14,
     "metadata": {},
     "output_type": "execute_result"
    }
   ],
   "source": [
    "#Fitting RNN\n",
    "#100 for much higher accuracy\n",
    "regressor.fit(X_train, y_train, epochs = 100, batch_size = 32)"
   ]
  },
  {
   "cell_type": "code",
   "execution_count": 15,
   "id": "insured-serial",
   "metadata": {},
   "outputs": [],
   "source": [
    "# Making the predictions and viewing results\n",
    "\n",
    "#Getting real stock price of 2017\n",
    "dataset_test= pd.read_csv(r\"C:\\Users\\DELL\\Desktop\\bharath\\DS\\csv\\Google_Stock_Price_Test.csv\")\n",
    "real_stock_price = dataset_test.iloc[:,1:2].values\n"
   ]
  },
  {
   "cell_type": "code",
   "execution_count": 16,
   "id": "owned-thanksgiving",
   "metadata": {},
   "outputs": [],
   "source": [
    "#Getting the predicted stock price of 2017\n",
    "dataset_total = pd.concat((dataset_train['Open'],dataset_test['Open']), axis=0)\n",
    "inputs = dataset_total[ len(dataset_total) - len(dataset_test) -60:].values\n",
    "inputs = inputs.reshape(-1,1)\n"
   ]
  },
  {
   "cell_type": "code",
   "execution_count": 17,
   "id": "analyzed-botswana",
   "metadata": {},
   "outputs": [],
   "source": [
    "inputs = sc.transform(inputs)\n"
   ]
  },
  {
   "cell_type": "code",
   "execution_count": 18,
   "id": "cooperative-artist",
   "metadata": {},
   "outputs": [],
   "source": [
    "X_test = []\n",
    "\n",
    "for i in range(60, 80):\n",
    "    X_test.append(inputs[i-60:i,0])"
   ]
  },
  {
   "cell_type": "code",
   "execution_count": 19,
   "id": "native-bryan",
   "metadata": {},
   "outputs": [],
   "source": [
    "X_test= np.array(X_test)\n",
    "X_test = np.reshape(X_test,(X_test.shape[0],X_test.shape[1], 1))"
   ]
  },
  {
   "cell_type": "code",
   "execution_count": 20,
   "id": "trained-cleaners",
   "metadata": {},
   "outputs": [],
   "source": [
    "predicted_stock_price = regressor.predict(X_test)\n",
    "predicted_stock_price = sc.inverse_transform(predicted_stock_price)"
   ]
  },
  {
   "cell_type": "code",
   "execution_count": 21,
   "id": "hollywood-begin",
   "metadata": {},
   "outputs": [
    {
     "data": {
      "image/png": "[encoded data removed]",
      "text/plain": [
       "<Figure size 432x288 with 1 Axes>"
      ]
     },
     "metadata": {
      "needs_background": "light"
     },
     "output_type": "display_data"
    }
   ],
   "source": [
    "#viewing results\n",
    "\n",
    "plt.plot(real_stock_price,color='red', label='Real Google Stock Price for Jan 2017')\n",
    "plt.plot(predicted_stock_price,color='blue', label='Predicted Google Stock Price for Jan 2017')\n",
    "plt.title('Google Stock Price Prediction')\n",
    "plt.xlabel('Time')\n",
    "plt.ylabel('Google Stock Price')\n",
    "plt.legend()\n",
    "plt.show()"
   ]
  },
  {
   "cell_type": "code",
   "execution_count": null,
   "id": "coated-monkey",
   "metadata": {},
   "outputs": [],
   "source": []
  }
 ],
 "metadata": {
  "kernelspec": {
   "display_name": "Python 3",
   "language": "python",
   "name": "python3"
  },
  "language_info": {
   "codemirror_mode": {
    "name": "ipython",
    "version": 3
   },
   "file_extension": ".py",
   "mimetype": "text/x-python",
   "name": "python",
   "nbconvert_exporter": "python",
   "pygments_lexer": "ipython3",
   "version": "3.7.10"
  }
 },
 "nbformat": 4,
 "nbformat_minor": 5
}
